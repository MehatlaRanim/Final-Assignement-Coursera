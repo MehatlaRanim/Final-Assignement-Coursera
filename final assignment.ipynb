{
 "cells": [
  {
   "cell_type": "markdown",
   "id": "38e97b72",
   "metadata": {},
   "source": [
    "# Final Assignment"
   ]
  },
  {
   "cell_type": "markdown",
   "id": "691d3374",
   "metadata": {},
   "source": [
    "## In this notebook, Data Science Tools and Ecosystem are summarized."
   ]
  },
  {
   "cell_type": "markdown",
   "id": "e068e64f",
   "metadata": {},
   "source": [
    "Some of the popular languages that Data Scientists use are:\n",
    "\n",
    "    1- Python\n",
    "    \n",
    "    2- R\n",
    "    \n",
    "    3-SQL\n",
    "    \n",
    "    4-Julia\n",
    "    \n",
    "    5-Scala"
   ]
  },
  {
   "cell_type": "markdown",
   "id": "337af5c3",
   "metadata": {},
   "source": [
    "\n",
    "Some of the commonly used libraries used by Data Scientists include:\n",
    "\n",
    "1-Pandas\n",
    "\n",
    "2-Numpy\n",
    "\n",
    "3-Matplotlib\n",
    "\n",
    "4-Seaborn\n",
    "\n",
    "5-scikit-learn"
   ]
  },
  {
   "cell_type": "markdown",
   "id": "26323f9a",
   "metadata": {},
   "source": [
    "| Library           | Description                                                                                     |\n",
    "|-------------------|-------------------------------------------------------------------------------------------------|\n",
    "| NumPy             | Python library for numerical computing with multidimensional arrays                             |\n",
    "| pandas            | Python library for data manipulation and analysis                                                |\n",
    "| Matplotlib        | Python plotting library for creating a variety of static plots                                    |\n",
    "| Seaborn           | Data visualization library based on Matplotlib                                                    |\n",
    "| scikit-learn      | Python library for machine learning                                                              |\n",
    "| TensorFlow        | Open-source library for numerical computation and machine learning developed by Google           |\n",
    "| PyTorch           | Popular deep learning library                                                                    |\n",
    "| StatsModels       | Python library for statistical methods                                                           |\n",
    "| SciPy             | Python library for optimization, linear algebra, and other tasks in scientific computing          |\n",
    "| NLTK              | Python library for natural language processing                                                   |\n"
   ]
  },
  {
   "cell_type": "markdown",
   "id": "3459dd8c",
   "metadata": {},
   "source": [
    "Examples of Arithmetic Expressions\n",
    "\n",
    "    Addition:\n",
    "        2 + 3 = 5\n",
    "        10 + 5.5 = 15.5\n",
    "\n",
    "    Subtraction:\n",
    "        8 - 4 = 4\n",
    "        12.5 - 3.7 = 8.8\n",
    "\n",
    "    Multiplication:\n",
    "        5 * 4 = 20\n",
    "        2.5 * 3 = 7.5\n",
    "\n",
    "    Division:\n",
    "        10 / 2 = 5\n",
    "        15 / 3 = 5\n",
    "\n",
    "    Exponentiation:\n",
    "        2 ** 3 = 8 (2 raised to the power of 3)\n",
    "        4 ** 0.5 = 2 (square root of 4)"
   ]
  },
  {
   "cell_type": "code",
   "execution_count": 4,
   "id": "27bf65c9",
   "metadata": {},
   "outputs": [
    {
     "name": "stdout",
     "output_type": "stream",
     "text": [
      "Addition result: 30\n",
      "Multiplication result: 20\n"
     ]
    }
   ],
   "source": [
    "# Addition\n",
    "num1 = 10\n",
    "num2 = 20\n",
    "sum_result = num1 + num2\n",
    "print(\"Addition result:\", sum_result)\n",
    "\n",
    "# Multiplication\n",
    "num3 = 5\n",
    "num4 = 4\n",
    "product_result = num3 * num4\n",
    "print(\"Multiplication result:\", product_result)"
   ]
  },
  {
   "cell_type": "code",
   "execution_count": 5,
   "id": "d84d356f",
   "metadata": {},
   "outputs": [
    {
     "name": "stdout",
     "output_type": "stream",
     "text": [
      "150 minutes is equivalent to 2.5 hours.\n"
     ]
    }
   ],
   "source": [
    "# Convert minutes to hours\n",
    "def minutes_to_hours(minutes):\n",
    "    hours = minutes / 60\n",
    "    return hours\n",
    "\n",
    "# Example usage of the function\n",
    "minutes = 150\n",
    "hours = minutes_to_hours(minutes)\n",
    "print(minutes, \"minutes is equivalent to\", hours, \"hours.\")"
   ]
  },
  {
   "cell_type": "markdown",
   "id": "d16d6cf6",
   "metadata": {},
   "source": [
    "### Objectives:\n",
    "\n",
    "- Understand fundamental concepts of data science, including data collection, cleaning, analysis, and interpretation.\n",
    "- Learn various statistical methods and machine learning algorithms for extracting insights from data.\n",
    "- Develop proficiency in programming languages commonly used in data science such as Python, R, and SQL.\n",
    "- Gain experience with popular data science libraries and frameworks like NumPy, pandas, scikit-learn, TensorFlow, and PyTorch.\n",
    "- Master techniques for data visualization to effectively communicate findings to stakeholders.\n",
    "- Apply data science methodologies to solve real-world problems and make data-driven decisions.\n",
    "- Stay updated with advancements in the field and continuously improve skills through practice and learning.\n"
   ]
  },
  {
   "cell_type": "markdown",
   "id": "413e0d33",
   "metadata": {},
   "source": [
    "### Author :\n",
    "\n",
    "Ranim MEHATLA\n"
   ]
  }
 ],
 "metadata": {
  "kernelspec": {
   "display_name": "Python 3 (ipykernel)",
   "language": "python",
   "name": "python3"
  },
  "language_info": {
   "codemirror_mode": {
    "name": "ipython",
    "version": 3
   },
   "file_extension": ".py",
   "mimetype": "text/x-python",
   "name": "python",
   "nbconvert_exporter": "python",
   "pygments_lexer": "ipython3",
   "version": "3.9.13"
  }
 },
 "nbformat": 4,
 "nbformat_minor": 5
}
